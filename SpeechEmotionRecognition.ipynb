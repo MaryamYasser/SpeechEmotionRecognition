{
  "nbformat": 4,
  "nbformat_minor": 0,
  "metadata": {
    "colab": {
      "name": "Untitled10 (1).ipynb",
      "provenance": [],
      "collapsed_sections": []
    },
    "kernelspec": {
      "name": "python3",
      "display_name": "Python 3"
    },
    "language_info": {
      "name": "python"
    },
    "accelerator": "GPU"
  },
  "cells": [
    {
      "cell_type": "code",
      "metadata": {
        "id": "03aHdoYdHWgo"
      },
      "source": [
        "#!pip install PyDrive\n",
        "from pydrive.auth import GoogleAuth\n",
        "from pydrive.drive import GoogleDrive\n",
        "from google.colab import auth\n",
        "from oauth2client.client import GoogleCredentials\n",
        "import librosa\n",
        "import librosa.display\n",
        "import numpy as np\n",
        "import matplotlib.pyplot as plt\n",
        "from matplotlib.pyplot import specgram\n",
        "from sklearn import preprocessing\n",
        "import pandas as pd\n",
        "import glob \n",
        "from sklearn.metrics import confusion_matrix\n",
        "import IPython.display as ipd  # To play sound in the notebook\n",
        "import os\n",
        "import sys\n",
        "import warnings"
      ],
      "execution_count": 1,
      "outputs": []
    },
    {
      "cell_type": "code",
      "metadata": {
        "id": "PAOhHeWzPYw5"
      },
      "source": [
        "auth.authenticate_user()\n",
        "gauth = GoogleAuth()\n",
        "gauth.credentials = GoogleCredentials.get_application_default()\n",
        "drive = GoogleDrive(gauth)"
      ],
      "execution_count": 2,
      "outputs": []
    },
    {
      "cell_type": "code",
      "metadata": {
        "id": "e7ihhM3hJWVl"
      },
      "source": [
        "downloaded = drive.CreateFile({'id':\"1-0_P499jdnswRsGKktQuWTIIyJ2bTotE\"})   # replace the id with id of file you want to access\n",
        "downloaded.GetContentFile('train1.npy')        # replace the file name with your file\n"
      ],
      "execution_count": 3,
      "outputs": []
    },
    {
      "cell_type": "code",
      "metadata": {
        "id": "lUyS_vB8XNzL"
      },
      "source": [
        "downloaded = drive.CreateFile({'id':\"147Q9ZSS1Alcdnl5DIzoGFDVoZ6q8We4J\"})   # replace the id with id of file you want to access\n",
        "downloaded.GetContentFile('test2.npy')        # replace the file name with your file\n"
      ],
      "execution_count": 4,
      "outputs": []
    },
    {
      "cell_type": "code",
      "metadata": {
        "id": "Kxf7LK_lZ5xF"
      },
      "source": [
        "downloaded = drive.CreateFile({'id':\"1-060cpLO21ldHyQh6jZHVMzanwpvmSIf\"})   # replace the id with id of file you want to access\n",
        "downloaded.GetContentFile('trainz.npy') "
      ],
      "execution_count": 5,
      "outputs": []
    },
    {
      "cell_type": "code",
      "metadata": {
        "id": "_6ZodK9_Z6AN"
      },
      "source": [
        "downloaded = drive.CreateFile({'id':\"1-1VkSISOWJOWsP1OaUjb2BwILh0X35eU\"})   # replace the id with id of file you want to access\n",
        "downloaded.GetContentFile('traine.npy') "
      ],
      "execution_count": 6,
      "outputs": []
    },
    {
      "cell_type": "code",
      "metadata": {
        "id": "Uuy6UWi3Z6qe"
      },
      "source": [
        "downloaded = drive.CreateFile({'id':\"1-6B6pJxvcyFY9jcfIwkFFePDV4EL4BKE\"})   # replace the id with id of file you want to access\n",
        "downloaded.GetContentFile('testz.npy') "
      ],
      "execution_count": 7,
      "outputs": []
    },
    {
      "cell_type": "code",
      "metadata": {
        "id": "fbZzEsU0Z60o"
      },
      "source": [
        "downloaded = drive.CreateFile({'id':\"1-7tP5AMEivbx1aR9DljnEkYMJeYLLIiD\"})   # replace the id with id of file you want to access\n",
        "downloaded.GetContentFile('teste.npy') "
      ],
      "execution_count": 8,
      "outputs": []
    },
    {
      "cell_type": "code",
      "metadata": {
        "id": "A9P2XqK5fa2H"
      },
      "source": [
        "Y_Train_Mel=np.load(\"train1.npy\")\n",
        "Y_Test_Mel=np.load(\"test2.npy\")\n",
        "\n",
        "X_Train1=np.load(\"trainz.npy\")\n",
        "X_Train2=np.load(\"traine.npy\")\n",
        "X_Test1=np.load(\"testz.npy\")\n",
        "X_Test2=np.load(\"teste.npy\")"
      ],
      "execution_count": 9,
      "outputs": []
    },
    {
      "cell_type": "code",
      "metadata": {
        "id": "YoQxWoBxbu10"
      },
      "source": [
        "X_Train1=np.array(X_Train1)\n",
        "X_Train1=X_Train1.reshape(X_Train1.shape[0],157)\n",
        "\n",
        "X_Train2=np.array(X_Train2)\n",
        "X_Train2=X_Train2.reshape(X_Train2.shape[0],157)\n",
        "\n",
        "X_Test1=np.array(X_Test1)\n",
        "X_Test1=X_Test1.reshape(2233,157)\n",
        "\n",
        "X_Test2=np.array(X_Test2)\n",
        "X_Test2=X_Test2.reshape(2233,157)"
      ],
      "execution_count": 10,
      "outputs": []
    },
    {
      "cell_type": "code",
      "metadata": {
        "id": "v4Av2pWssOMB"
      },
      "source": [
        "from sklearn.preprocessing import StandardScaler\n",
        "scaler = StandardScaler()\n",
        "scaler.fit(X_Train1)\n",
        "X_Train1 = scaler.transform(X_Train1)\n",
        "X_Test1 = scaler.transform(X_Test1)\n",
        "scaler.fit(X_Train2)\n",
        "X_Train2 = scaler.transform(X_Train2)\n",
        "X_Test2 = scaler.transform(X_Test2)"
      ],
      "execution_count": 11,
      "outputs": []
    },
    {
      "cell_type": "code",
      "metadata": {
        "colab": {
          "base_uri": "https://localhost:8080/"
        },
        "id": "KyEb2kUgdQV0",
        "outputId": "3a941836-8689-4513-aa5e-79710c640803"
      },
      "source": [
        "print(X_Train.shape)"
      ],
      "execution_count": 14,
      "outputs": [
        {
          "output_type": "stream",
          "text": [
            "(26045, 157, 2)\n"
          ],
          "name": "stdout"
        }
      ]
    },
    {
      "cell_type": "code",
      "metadata": {
        "id": "ooo9lXDc5JJd"
      },
      "source": [
        "X_Test=np.dstack((X_Test1,X_Test2))\n",
        "X_Train=np.dstack((X_Train1,X_Train2))\n"
      ],
      "execution_count": 13,
      "outputs": []
    },
    {
      "cell_type": "code",
      "metadata": {
        "colab": {
          "base_uri": "https://localhost:8080/"
        },
        "id": "pAIkLX0Dc1UL",
        "outputId": "b6bab731-288d-45f2-fccb-a21a12491a11"
      },
      "source": [
        "print(X_Train.shape)"
      ],
      "execution_count": null,
      "outputs": [
        {
          "output_type": "stream",
          "text": [
            "(26045, 157, 2)\n"
          ],
          "name": "stdout"
        }
      ]
    },
    {
      "cell_type": "code",
      "metadata": {
        "id": "eO-twYAYfCx9"
      },
      "source": [
        "from tensorflow import keras\n",
        "from keras import models,optimizers\n",
        "from tensorflow.keras.layers import Dense,Conv1D,Flatten,MaxPool1D,Dropout,Conv2D,MaxPooling2D,BatchNormalization\n",
        "from tensorflow.keras.models import Sequential\n",
        "import tensorflow as tf\n",
        "from keras import regularizers"
      ],
      "execution_count": 15,
      "outputs": []
    },
    {
      "cell_type": "code",
      "metadata": {
        "id": "K3-xVIkkS23i"
      },
      "source": [
        "from keras.layers import Embedding, LSTM\n",
        "from keras.layers import Input,Activation\n",
        "from keras.layers import AveragePooling1D"
      ],
      "execution_count": 16,
      "outputs": []
    },
    {
      "cell_type": "code",
      "metadata": {
        "id": "mBEC87clRFah"
      },
      "source": [
        "\n",
        "def plot_loss_and_accuracy(history,epoch_number):\n",
        "\n",
        "  fig, (ax1, ax2) = plt.subplots(1, 2)\n",
        "  fig.set_size_inches(14.5, 8.5)\n",
        "  epochs = range(0,epoch_number)\n",
        "  fig.suptitle('Loss and Accuracy')\n",
        "  loss_train = history.history['loss']\n",
        "  loss_val = history.history['val_loss']\n",
        "\n",
        "  ax1.plot(epochs, loss_train, 'g', label='Training Loss')\n",
        "  ax1.plot(epochs, loss_val, 'b', label='Validation Loss')\n",
        "  ax1.set_title('Training and Validation loss')\n",
        "  ax1.set_xlabel('Epochs')\n",
        "  ax1.set_ylabel('Loss')\n",
        "  ax1.legend()\n",
        "  try:\n",
        "    acc_train = history.history['accuracy']\n",
        "    acc_val = history.history['val_accuracy']\n",
        "  except:\n",
        "    acc_train = history.history['acc']\n",
        "    acc_val = history.history['val_acc']\n",
        "\n",
        "  ax2.plot(epochs, acc_train, 'g', label='Training Accuracy')\n",
        "  ax2.plot(epochs, acc_val, 'b', label='Validation Accuracy')\n",
        "  ax2.set_title('Training and Validation Accuracy')\n",
        "  ax2.set_xlabel('Epochs')\n",
        "  ax2.set_ylabel('Accuracy')\n",
        "  plt.legend()\n",
        "\n",
        "\n",
        "\n",
        "  plt.show()"
      ],
      "execution_count": 17,
      "outputs": []
    },
    {
      "cell_type": "code",
      "metadata": {
        "colab": {
          "base_uri": "https://localhost:8080/"
        },
        "id": "5uD4E7IxLOs3",
        "outputId": "324f0cf4-6ca7-43f1-d75d-89ed79a0b7ea"
      },
      "source": [
        "keras.backend.clear_session()\n",
        "model=Sequential()\n",
        "\n",
        "callback = tf.keras.callbacks.EarlyStopping(monitor='loss', patience=3)\n",
        "\n",
        "model.add(Conv1D(256 ,kernel_size=3,activation='relu',padding=\"same\",input_shape=(157,2)))\n",
        "model.add(Conv1D(256 ,kernel_size=3,activation='relu',padding=\"same\"))\n",
        "model.add(MaxPool1D(pool_size=2,strides=2))\n",
        "model.add(Dropout(0.3))\n",
        "\n",
        "model.add(Conv1D(128 ,kernel_size=5,activation='relu'))\n",
        "model.add(Conv1D(128 ,kernel_size=5,activation='relu'))\n",
        "model.add(MaxPool1D(pool_size=2,strides=2))\n",
        "model.add(Dropout(0.3))\n",
        "\n",
        "\n",
        "model.add(Conv1D(64 ,kernel_size=7,activation='relu'))\n",
        "model.add(Conv1D(64 ,kernel_size=7,activation='relu'))\n",
        "model.add(MaxPool1D(pool_size=2,strides=2))\n",
        "\n",
        "model.add(Dropout(0.3))\n",
        "\n",
        "model.add(Flatten())\n",
        "\n",
        "model.add(Dense(512,kernel_regularizer=regularizers.l2(0.01)))\n",
        "model.add(Dropout(0.3))\n",
        "model.add(Dense(64,kernel_regularizer=regularizers.l2(0.01)))\n",
        "model.add(Dropout(0.5))\n",
        "\n",
        "model.add(Dense(6,activation='softmax'))\n",
        "\n",
        "opt = keras.optimizers.Adam(learning_rate = 0.0001)\n",
        "\n",
        "\n",
        "model.compile(optimizer=opt,loss='categorical_crossentropy',metrics=['accuracy'])\n",
        "\n",
        "\n",
        "model.summary()"
      ],
      "execution_count": 35,
      "outputs": [
        {
          "output_type": "stream",
          "text": [
            "Model: \"sequential\"\n",
            "_________________________________________________________________\n",
            "Layer (type)                 Output Shape              Param #   \n",
            "=================================================================\n",
            "conv1d (Conv1D)              (None, 157, 256)          1792      \n",
            "_________________________________________________________________\n",
            "conv1d_1 (Conv1D)            (None, 157, 256)          196864    \n",
            "_________________________________________________________________\n",
            "max_pooling1d (MaxPooling1D) (None, 78, 256)           0         \n",
            "_________________________________________________________________\n",
            "dropout (Dropout)            (None, 78, 256)           0         \n",
            "_________________________________________________________________\n",
            "conv1d_2 (Conv1D)            (None, 74, 128)           163968    \n",
            "_________________________________________________________________\n",
            "conv1d_3 (Conv1D)            (None, 70, 128)           82048     \n",
            "_________________________________________________________________\n",
            "max_pooling1d_1 (MaxPooling1 (None, 35, 128)           0         \n",
            "_________________________________________________________________\n",
            "dropout_1 (Dropout)          (None, 35, 128)           0         \n",
            "_________________________________________________________________\n",
            "conv1d_4 (Conv1D)            (None, 29, 64)            57408     \n",
            "_________________________________________________________________\n",
            "conv1d_5 (Conv1D)            (None, 23, 64)            28736     \n",
            "_________________________________________________________________\n",
            "max_pooling1d_2 (MaxPooling1 (None, 11, 64)            0         \n",
            "_________________________________________________________________\n",
            "dropout_2 (Dropout)          (None, 11, 64)            0         \n",
            "_________________________________________________________________\n",
            "flatten (Flatten)            (None, 704)               0         \n",
            "_________________________________________________________________\n",
            "dense (Dense)                (None, 512)               360960    \n",
            "_________________________________________________________________\n",
            "dropout_3 (Dropout)          (None, 512)               0         \n",
            "_________________________________________________________________\n",
            "dense_1 (Dense)              (None, 64)                32832     \n",
            "_________________________________________________________________\n",
            "dropout_4 (Dropout)          (None, 64)                0         \n",
            "_________________________________________________________________\n",
            "dense_2 (Dense)              (None, 6)                 390       \n",
            "=================================================================\n",
            "Total params: 924,998\n",
            "Trainable params: 924,998\n",
            "Non-trainable params: 0\n",
            "_________________________________________________________________\n"
          ],
          "name": "stdout"
        }
      ]
    },
    {
      "cell_type": "code",
      "metadata": {
        "id": "11wRmSmwZYXm",
        "colab": {
          "base_uri": "https://localhost:8080/"
        },
        "outputId": "f17800b3-770a-402c-d1c3-b9225f6d5e23"
      },
      "source": [
        "#history=model.fit(X_Train,Y_Train,validation_data=(X_Val, Y_Val),epochs=30,batch_size=32)\n",
        "\n",
        "\n",
        "history=model.fit(X_Train,Y_Train_Mel,validation_split=0.05,epochs=40,batch_size=32,callbacks=[callback])\n"
      ],
      "execution_count": 36,
      "outputs": [
        {
          "output_type": "stream",
          "text": [
            "Epoch 1/40\n",
            "774/774 [==============================] - 7s 8ms/step - loss: 4.8651 - accuracy: 0.3317 - val_loss: 3.0255 - val_accuracy: 0.3285\n",
            "Epoch 2/40\n",
            "774/774 [==============================] - 6s 8ms/step - loss: 2.3889 - accuracy: 0.3932 - val_loss: 2.0582 - val_accuracy: 0.3615\n",
            "Epoch 3/40\n",
            "774/774 [==============================] - 6s 8ms/step - loss: 1.8324 - accuracy: 0.4114 - val_loss: 1.7703 - val_accuracy: 0.3922\n",
            "Epoch 4/40\n",
            "774/774 [==============================] - 6s 8ms/step - loss: 1.6188 - accuracy: 0.4284 - val_loss: 1.5931 - val_accuracy: 0.4129\n",
            "Epoch 5/40\n",
            "774/774 [==============================] - 6s 8ms/step - loss: 1.5278 - accuracy: 0.4357 - val_loss: 1.5630 - val_accuracy: 0.3998\n",
            "Epoch 6/40\n",
            "774/774 [==============================] - 6s 8ms/step - loss: 1.4757 - accuracy: 0.4479 - val_loss: 1.5178 - val_accuracy: 0.4198\n",
            "Epoch 7/40\n",
            "774/774 [==============================] - 6s 8ms/step - loss: 1.4413 - accuracy: 0.4507 - val_loss: 1.5012 - val_accuracy: 0.4244\n",
            "Epoch 8/40\n",
            "774/774 [==============================] - 6s 8ms/step - loss: 1.4156 - accuracy: 0.4585 - val_loss: 1.4342 - val_accuracy: 0.4305\n",
            "Epoch 9/40\n",
            "774/774 [==============================] - 6s 8ms/step - loss: 1.3943 - accuracy: 0.4688 - val_loss: 1.4205 - val_accuracy: 0.4543\n",
            "Epoch 10/40\n",
            "774/774 [==============================] - 6s 8ms/step - loss: 1.3802 - accuracy: 0.4757 - val_loss: 1.4062 - val_accuracy: 0.4405\n",
            "Epoch 11/40\n",
            "774/774 [==============================] - 6s 8ms/step - loss: 1.3658 - accuracy: 0.4789 - val_loss: 1.4110 - val_accuracy: 0.4451\n",
            "Epoch 12/40\n",
            "774/774 [==============================] - 6s 8ms/step - loss: 1.3525 - accuracy: 0.4840 - val_loss: 1.3662 - val_accuracy: 0.4490\n",
            "Epoch 13/40\n",
            "774/774 [==============================] - 6s 8ms/step - loss: 1.3396 - accuracy: 0.4911 - val_loss: 1.4626 - val_accuracy: 0.4244\n",
            "Epoch 14/40\n",
            "774/774 [==============================] - 6s 8ms/step - loss: 1.3255 - accuracy: 0.4974 - val_loss: 1.3340 - val_accuracy: 0.4758\n",
            "Epoch 15/40\n",
            "774/774 [==============================] - 6s 8ms/step - loss: 1.3170 - accuracy: 0.5015 - val_loss: 1.3233 - val_accuracy: 0.4896\n",
            "Epoch 16/40\n",
            "774/774 [==============================] - 6s 8ms/step - loss: 1.3029 - accuracy: 0.5076 - val_loss: 1.4169 - val_accuracy: 0.4520\n",
            "Epoch 17/40\n",
            "774/774 [==============================] - 6s 8ms/step - loss: 1.2983 - accuracy: 0.5092 - val_loss: 1.3640 - val_accuracy: 0.4712\n",
            "Epoch 18/40\n",
            "774/774 [==============================] - 6s 8ms/step - loss: 1.2830 - accuracy: 0.5170 - val_loss: 1.3336 - val_accuracy: 0.4843\n",
            "Epoch 19/40\n",
            "774/774 [==============================] - 6s 8ms/step - loss: 1.2753 - accuracy: 0.5241 - val_loss: 1.3404 - val_accuracy: 0.4896\n",
            "Epoch 20/40\n",
            "774/774 [==============================] - 6s 8ms/step - loss: 1.2633 - accuracy: 0.5301 - val_loss: 1.3358 - val_accuracy: 0.4812\n",
            "Epoch 21/40\n",
            "774/774 [==============================] - 6s 8ms/step - loss: 1.2567 - accuracy: 0.5280 - val_loss: 1.3475 - val_accuracy: 0.4774\n",
            "Epoch 22/40\n",
            "774/774 [==============================] - 6s 8ms/step - loss: 1.2521 - accuracy: 0.5333 - val_loss: 1.2978 - val_accuracy: 0.5042\n",
            "Epoch 23/40\n",
            "774/774 [==============================] - 6s 8ms/step - loss: 1.2366 - accuracy: 0.5409 - val_loss: 1.3413 - val_accuracy: 0.4988\n",
            "Epoch 24/40\n",
            "774/774 [==============================] - 6s 8ms/step - loss: 1.2319 - accuracy: 0.5421 - val_loss: 1.2701 - val_accuracy: 0.5119\n",
            "Epoch 25/40\n",
            "774/774 [==============================] - 6s 8ms/step - loss: 1.2194 - accuracy: 0.5496 - val_loss: 1.3473 - val_accuracy: 0.4973\n",
            "Epoch 26/40\n",
            "774/774 [==============================] - 6s 8ms/step - loss: 1.2161 - accuracy: 0.5488 - val_loss: 1.2972 - val_accuracy: 0.5058\n",
            "Epoch 27/40\n",
            "774/774 [==============================] - 6s 8ms/step - loss: 1.2031 - accuracy: 0.5540 - val_loss: 1.2861 - val_accuracy: 0.5104\n",
            "Epoch 28/40\n",
            "774/774 [==============================] - 6s 8ms/step - loss: 1.2025 - accuracy: 0.5559 - val_loss: 1.2869 - val_accuracy: 0.4988\n",
            "Epoch 29/40\n",
            "774/774 [==============================] - 6s 8ms/step - loss: 1.1889 - accuracy: 0.5601 - val_loss: 1.3395 - val_accuracy: 0.4935\n",
            "Epoch 30/40\n",
            "774/774 [==============================] - 6s 8ms/step - loss: 1.1786 - accuracy: 0.5656 - val_loss: 1.3301 - val_accuracy: 0.4912\n",
            "Epoch 31/40\n",
            "774/774 [==============================] - 6s 8ms/step - loss: 1.1792 - accuracy: 0.5662 - val_loss: 1.2914 - val_accuracy: 0.5050\n",
            "Epoch 32/40\n",
            "774/774 [==============================] - 6s 8ms/step - loss: 1.1665 - accuracy: 0.5724 - val_loss: 1.2965 - val_accuracy: 0.5157\n",
            "Epoch 33/40\n",
            "774/774 [==============================] - 6s 8ms/step - loss: 1.1598 - accuracy: 0.5697 - val_loss: 1.3208 - val_accuracy: 0.4896\n",
            "Epoch 34/40\n",
            "774/774 [==============================] - 6s 8ms/step - loss: 1.1538 - accuracy: 0.5773 - val_loss: 1.2822 - val_accuracy: 0.5150\n",
            "Epoch 35/40\n",
            "774/774 [==============================] - 6s 8ms/step - loss: 1.1527 - accuracy: 0.5786 - val_loss: 1.3449 - val_accuracy: 0.5019\n",
            "Epoch 36/40\n",
            "774/774 [==============================] - 6s 8ms/step - loss: 1.1399 - accuracy: 0.5837 - val_loss: 1.3311 - val_accuracy: 0.4973\n",
            "Epoch 37/40\n",
            "774/774 [==============================] - 6s 8ms/step - loss: 1.1266 - accuracy: 0.5922 - val_loss: 1.2674 - val_accuracy: 0.4973\n",
            "Epoch 38/40\n",
            "774/774 [==============================] - 6s 8ms/step - loss: 1.1271 - accuracy: 0.5898 - val_loss: 1.2666 - val_accuracy: 0.5242\n",
            "Epoch 39/40\n",
            "774/774 [==============================] - 6s 8ms/step - loss: 1.1222 - accuracy: 0.5898 - val_loss: 1.2681 - val_accuracy: 0.5372\n",
            "Epoch 40/40\n",
            "774/774 [==============================] - 6s 8ms/step - loss: 1.1090 - accuracy: 0.5976 - val_loss: 1.2844 - val_accuracy: 0.5203\n"
          ],
          "name": "stdout"
        }
      ]
    },
    {
      "cell_type": "code",
      "metadata": {
        "id": "YS5-ULmJgql3",
        "colab": {
          "base_uri": "https://localhost:8080/"
        },
        "outputId": "8e6773e7-7628-437c-d4bf-2ebe0e54a9c2"
      },
      "source": [
        "##Normalizing test data should be made \n",
        "\n",
        "score, acc = model.evaluate(X_Test, Y_Test_Mel, batch_size=1)\n",
        "#print('Test score:', score)\n",
        "print('Test accuracy:', acc)"
      ],
      "execution_count": 40,
      "outputs": [
        {
          "output_type": "stream",
          "text": [
            "2233/2233 [==============================] - 6s 3ms/step - loss: 1.2245 - accuracy: 0.5517\n",
            "Test accuracy: 0.5517241358757019\n"
          ],
          "name": "stdout"
        }
      ]
    },
    {
      "cell_type": "code",
      "metadata": {
        "colab": {
          "base_uri": "https://localhost:8080/",
          "height": 585
        },
        "id": "gA8kQEdjeUEu",
        "outputId": "d2f9b390-4553-4f05-eea6-10c48f92b9df"
      },
      "source": [
        "plot_loss_and_accuracy(history,40)"
      ],
      "execution_count": 39,
      "outputs": [
        {
          "output_type": "display_data",
          "data": {
            "image/png": "[encoded data removed]",
            "text/plain": [
              "<Figure size 1044x612 with 2 Axes>"
            ]
          },
          "metadata": {
            "tags": [],
            "needs_background": "light"
          }
        }
      ]
    },
    {
      "cell_type": "code",
      "metadata": {
        "id": "qlljsrySYHlR",
        "colab": {
          "base_uri": "https://localhost:8080/",
          "height": 429
        },
        "outputId": "deee61b2-075b-400a-f0aa-bed625a42d36"
      },
      "source": [
        "import itertools\n",
        "\n",
        "y_pred = model.predict(X_Test)\n",
        "y_pred = np.argmax(y_pred, axis=1)\n",
        "y_check = np.argmax(Y_Test_Mel, axis=1)\n",
        "from sklearn.metrics import confusion_matrix\n",
        "cm = confusion_matrix(y_true=y_check, y_pred=y_pred)\n",
        "def plot_confusion_matrix(cm, classes,\n",
        "                        normalize=False,\n",
        "                        title='Confusion matrix',\n",
        "                        cmap=plt.cm.Blues):\n",
        "    \"\"\"\n",
        "    This function prints and plots the confusion matrix.\n",
        "    Normalization can be applied by setting `normalize=True`.\n",
        "    \"\"\"\n",
        "    plt.imshow(cm, interpolation='nearest', cmap=cmap)\n",
        "    plt.title(title)\n",
        "    plt.colorbar()\n",
        "    tick_marks = np.arange(len(classes))\n",
        "    plt.xticks(tick_marks, classes, rotation=45)\n",
        "    plt.yticks(tick_marks, classes)\n",
        "\n",
        "    if normalize:\n",
        "        cm = cm.astype('float') / cm.sum(axis=1)[:, np.newaxis]\n",
        "        print(\"Normalized confusion matrix\")\n",
        "    else:\n",
        "        print('Confusion matrix, without normalization')\n",
        "\n",
        "    print(cm)\n",
        "\n",
        "    thresh = cm.max() / 2.\n",
        "    for i, j in itertools.product(range(cm.shape[0]), range(cm.shape[1])):\n",
        "        plt.text(j, i, cm[i, j],\n",
        "            horizontalalignment=\"center\",\n",
        "            color=\"white\" if cm[i, j] > thresh else \"black\")\n",
        "\n",
        "    plt.tight_layout()\n",
        "    plt.ylabel('True label')\n",
        "    plt.xlabel('Predicted label')\n",
        "cm_plot_labels = ['angry', 'disgust', 'fear', 'happy', 'neutral', 'sad']\n",
        "plot_confusion_matrix(cm=cm, classes=cm_plot_labels, title='Confusion Matrix')    "
      ],
      "execution_count": 42,
      "outputs": [
        {
          "output_type": "stream",
          "text": [
            "Confusion matrix, without normalization\n",
            "[[277  27  11  72  10   2]\n",
            " [ 30 162  33  48  26  53]\n",
            " [ 27  22 122  95  28  61]\n",
            " [ 55  24  44 217  37  12]\n",
            " [  6  16  14  42 222  33]\n",
            " [  4  33  51  17  68 232]]\n"
          ],
          "name": "stdout"
        },
        {
          "output_type": "display_data",
          "data": {
            "image/png": "[encoded data removed]",
            "text/plain": [
              "<Figure size 432x288 with 2 Axes>"
            ]
          },
          "metadata": {
            "tags": [],
            "needs_background": "light"
          }
        }
      ]
    },
    {
      "cell_type": "code",
      "metadata": {
        "id": "vBHP9EOmkINb",
        "colab": {
          "base_uri": "https://localhost:8080/"
        },
        "outputId": "9bf7ee70-7ef8-4d78-f299-b7ddeca049a3"
      },
      "source": [
        "from sklearn.metrics import classification_report\n",
        "\n",
        "print(classification_report(y_check, y_pred))"
      ],
      "execution_count": 43,
      "outputs": [
        {
          "output_type": "stream",
          "text": [
            "              precision    recall  f1-score   support\n",
            "\n",
            "           0       0.69      0.69      0.69       399\n",
            "           1       0.57      0.46      0.51       352\n",
            "           2       0.44      0.34      0.39       355\n",
            "           3       0.44      0.56      0.49       389\n",
            "           4       0.57      0.67      0.61       333\n",
            "           5       0.59      0.57      0.58       405\n",
            "\n",
            "    accuracy                           0.55      2233\n",
            "   macro avg       0.55      0.55      0.55      2233\n",
            "weighted avg       0.55      0.55      0.55      2233\n",
            "\n"
          ],
          "name": "stdout"
        }
      ]
    }
  ]
}